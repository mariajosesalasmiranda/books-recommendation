{
 "cells": [
  {
   "cell_type": "code",
   "execution_count": null,
   "metadata": {},
   "outputs": [],
   "source": [
    "# import libraries\n",
    "import pandas as pd"
   ]
  },
  {
   "cell_type": "code",
   "execution_count": 9,
   "metadata": {},
   "outputs": [
    {
     "data": {
      "text/plain": [
       "((30, 6), (10, 11), (2, 11), (3, 11))"
      ]
     },
     "execution_count": 9,
     "metadata": {},
     "output_type": "execute_result"
    }
   ],
   "source": [
    "# read the data\n",
    "book_wish = pd.read_csv('Books - Wishlist.csv')\n",
    "book_23 = pd.read_csv('Books - 2023.csv')\n",
    "book_24 = pd.read_csv('Books - 2024.csv')\n",
    "book_25 = pd.read_csv('Books - 2025.csv')\n",
    "\n",
    "book_wish.shape, book_23.shape, book_24.shape, book_25.shape"
   ]
  },
  {
   "cell_type": "code",
   "execution_count": 3,
   "metadata": {},
   "outputs": [
    {
     "data": {
      "application/vnd.microsoft.datawrangler.viewer.v0+json": {
       "columns": [
        {
         "name": "index",
         "rawType": "int64",
         "type": "integer"
        },
        {
         "name": "Name",
         "rawType": "object",
         "type": "string"
        },
        {
         "name": "Author",
         "rawType": "object",
         "type": "string"
        },
        {
         "name": "Year",
         "rawType": "int64",
         "type": "integer"
        },
        {
         "name": "Language",
         "rawType": "object",
         "type": "string"
        },
        {
         "name": "Total Pages",
         "rawType": "float64",
         "type": "float"
        },
        {
         "name": "Read",
         "rawType": "object",
         "type": "unknown"
        }
       ],
       "conversionMethod": "pd.DataFrame",
       "ref": "1572ffb9-da6f-4aae-846f-fbf889621363",
       "rows": [
        [
         "0",
         "Записки изъ подполья (Notes from Underground)",
         "Фёдор Михайлович Достоевский (Fyodor Dostoevsky)",
         "1864",
         "English",
         null,
         "False"
        ],
        [
         "1",
         "Brave New World",
         "Aldous Huxley",
         "1932",
         "English",
         "206.0",
         "False"
        ],
        [
         "2",
         "Fahrenheit 451",
         "Ray Bradbury",
         "1953",
         "English",
         "189.0",
         "False"
        ],
        [
         "3",
         "A Wizard of Earthsea",
         "Ursula K. Le Guin",
         "1968",
         "English",
         "201.0",
         "False"
        ],
        [
         "4",
         "Women, Race & Class (Donne, razza e colore)",
         "Angela Davis",
         "1981",
         "Italian",
         null,
         "False"
        ]
       ],
       "shape": {
        "columns": 6,
        "rows": 5
       }
      },
      "text/html": [
       "<div>\n",
       "<style scoped>\n",
       "    .dataframe tbody tr th:only-of-type {\n",
       "        vertical-align: middle;\n",
       "    }\n",
       "\n",
       "    .dataframe tbody tr th {\n",
       "        vertical-align: top;\n",
       "    }\n",
       "\n",
       "    .dataframe thead th {\n",
       "        text-align: right;\n",
       "    }\n",
       "</style>\n",
       "<table border=\"1\" class=\"dataframe\">\n",
       "  <thead>\n",
       "    <tr style=\"text-align: right;\">\n",
       "      <th></th>\n",
       "      <th>Name</th>\n",
       "      <th>Author</th>\n",
       "      <th>Year</th>\n",
       "      <th>Language</th>\n",
       "      <th>Total Pages</th>\n",
       "      <th>Read</th>\n",
       "    </tr>\n",
       "  </thead>\n",
       "  <tbody>\n",
       "    <tr>\n",
       "      <th>0</th>\n",
       "      <td>Записки изъ подполья (Notes from Underground)</td>\n",
       "      <td>Фёдор Михайлович Достоевский (Fyodor Dostoevsky)</td>\n",
       "      <td>1864</td>\n",
       "      <td>English</td>\n",
       "      <td>NaN</td>\n",
       "      <td>False</td>\n",
       "    </tr>\n",
       "    <tr>\n",
       "      <th>1</th>\n",
       "      <td>Brave New World</td>\n",
       "      <td>Aldous Huxley</td>\n",
       "      <td>1932</td>\n",
       "      <td>English</td>\n",
       "      <td>206.0</td>\n",
       "      <td>False</td>\n",
       "    </tr>\n",
       "    <tr>\n",
       "      <th>2</th>\n",
       "      <td>Fahrenheit 451</td>\n",
       "      <td>Ray Bradbury</td>\n",
       "      <td>1953</td>\n",
       "      <td>English</td>\n",
       "      <td>189.0</td>\n",
       "      <td>False</td>\n",
       "    </tr>\n",
       "    <tr>\n",
       "      <th>3</th>\n",
       "      <td>A Wizard of Earthsea</td>\n",
       "      <td>Ursula K. Le Guin</td>\n",
       "      <td>1968</td>\n",
       "      <td>English</td>\n",
       "      <td>201.0</td>\n",
       "      <td>False</td>\n",
       "    </tr>\n",
       "    <tr>\n",
       "      <th>4</th>\n",
       "      <td>Women, Race &amp; Class (Donne, razza e colore)</td>\n",
       "      <td>Angela Davis</td>\n",
       "      <td>1981</td>\n",
       "      <td>Italian</td>\n",
       "      <td>NaN</td>\n",
       "      <td>False</td>\n",
       "    </tr>\n",
       "  </tbody>\n",
       "</table>\n",
       "</div>"
      ],
      "text/plain": [
       "                                            Name  \\\n",
       "0  Записки изъ подполья (Notes from Underground)   \n",
       "1                                Brave New World   \n",
       "2                                 Fahrenheit 451   \n",
       "3                           A Wizard of Earthsea   \n",
       "4    Women, Race & Class (Donne, razza e colore)   \n",
       "\n",
       "                                             Author  Year Language  \\\n",
       "0  Фёдор Михайлович Достоевский (Fyodor Dostoevsky)  1864  English   \n",
       "1                                     Aldous Huxley  1932  English   \n",
       "2                                      Ray Bradbury  1953  English   \n",
       "3                                 Ursula K. Le Guin  1968  English   \n",
       "4                                      Angela Davis  1981  Italian   \n",
       "\n",
       "   Total Pages   Read  \n",
       "0          NaN  False  \n",
       "1        206.0  False  \n",
       "2        189.0  False  \n",
       "3        201.0  False  \n",
       "4          NaN  False  "
      ]
     },
     "execution_count": 3,
     "metadata": {},
     "output_type": "execute_result"
    }
   ],
   "source": [
    "book_wish.head()"
   ]
  },
  {
   "cell_type": "code",
   "execution_count": 4,
   "metadata": {},
   "outputs": [
    {
     "data": {
      "application/vnd.microsoft.datawrangler.viewer.v0+json": {
       "columns": [
        {
         "name": "index",
         "rawType": "int64",
         "type": "integer"
        },
        {
         "name": "Book title",
         "rawType": "object",
         "type": "string"
        },
        {
         "name": "Author",
         "rawType": "object",
         "type": "string"
        },
        {
         "name": "Year",
         "rawType": "int64",
         "type": "integer"
        },
        {
         "name": "Language",
         "rawType": "object",
         "type": "string"
        },
        {
         "name": "Month",
         "rawType": "object",
         "type": "string"
        },
        {
         "name": "Vote",
         "rawType": "object",
         "type": "string"
        },
        {
         "name": "Resource",
         "rawType": "object",
         "type": "string"
        },
        {
         "name": "Current Page",
         "rawType": "int64",
         "type": "integer"
        },
        {
         "name": "Total Page",
         "rawType": "int64",
         "type": "integer"
        },
        {
         "name": "Progress",
         "rawType": "float64",
         "type": "float"
        },
        {
         "name": "Missing Pages",
         "rawType": "int64",
         "type": "integer"
        }
       ],
       "conversionMethod": "pd.DataFrame",
       "ref": "7c244684-eeda-44f0-9978-783404c16865",
       "rows": [
        [
         "0",
         "레몬 (Lemon)",
         "권여선 (Kwon Yeo-sun)",
         "2021",
         "Italian",
         "Jan",
         "⭐⭐",
         "Library",
         "144",
         "144",
         null,
         "0"
        ],
        [
         "1",
         "Brividi. Storie che non vi faranno dormire la notte",
         "Elisa De Marco",
         "2022",
         "Italian",
         "Feb",
         "⭐⭐⭐⭐",
         "Kobo",
         "188",
         "188",
         null,
         "0"
        ],
        [
         "2",
         "I'm Glad My Mom Died",
         "Jennette McCurdy",
         "2022",
         "English",
         "Mar",
         "⭐⭐⭐⭐",
         "Kobo",
         "320",
         "320",
         null,
         "0"
        ],
        [
         "3",
         "Normal People",
         "Sally Rooney",
         "2018",
         "English",
         "Apr",
         "⭐⭐⭐⭐",
         "Kobo",
         "288",
         "288",
         null,
         "0"
        ],
        [
         "4",
         "아몬드 (Almond)",
         "손원평 (Won-Pyung Sohn)",
         "2017",
         "English",
         "May",
         "⭐⭐⭐⭐⭐",
         "Kobo",
         "272",
         "272",
         null,
         "0"
        ]
       ],
       "shape": {
        "columns": 11,
        "rows": 5
       }
      },
      "text/html": [
       "<div>\n",
       "<style scoped>\n",
       "    .dataframe tbody tr th:only-of-type {\n",
       "        vertical-align: middle;\n",
       "    }\n",
       "\n",
       "    .dataframe tbody tr th {\n",
       "        vertical-align: top;\n",
       "    }\n",
       "\n",
       "    .dataframe thead th {\n",
       "        text-align: right;\n",
       "    }\n",
       "</style>\n",
       "<table border=\"1\" class=\"dataframe\">\n",
       "  <thead>\n",
       "    <tr style=\"text-align: right;\">\n",
       "      <th></th>\n",
       "      <th>Book title</th>\n",
       "      <th>Author</th>\n",
       "      <th>Year</th>\n",
       "      <th>Language</th>\n",
       "      <th>Month</th>\n",
       "      <th>Vote</th>\n",
       "      <th>Resource</th>\n",
       "      <th>Current Page</th>\n",
       "      <th>Total Page</th>\n",
       "      <th>Progress</th>\n",
       "      <th>Missing Pages</th>\n",
       "    </tr>\n",
       "  </thead>\n",
       "  <tbody>\n",
       "    <tr>\n",
       "      <th>0</th>\n",
       "      <td>레몬 (Lemon)</td>\n",
       "      <td>권여선 (Kwon Yeo-sun)</td>\n",
       "      <td>2021</td>\n",
       "      <td>Italian</td>\n",
       "      <td>Jan</td>\n",
       "      <td>⭐⭐</td>\n",
       "      <td>Library</td>\n",
       "      <td>144</td>\n",
       "      <td>144</td>\n",
       "      <td>NaN</td>\n",
       "      <td>0</td>\n",
       "    </tr>\n",
       "    <tr>\n",
       "      <th>1</th>\n",
       "      <td>Brividi. Storie che non vi faranno dormire la ...</td>\n",
       "      <td>Elisa De Marco</td>\n",
       "      <td>2022</td>\n",
       "      <td>Italian</td>\n",
       "      <td>Feb</td>\n",
       "      <td>⭐⭐⭐⭐</td>\n",
       "      <td>Kobo</td>\n",
       "      <td>188</td>\n",
       "      <td>188</td>\n",
       "      <td>NaN</td>\n",
       "      <td>0</td>\n",
       "    </tr>\n",
       "    <tr>\n",
       "      <th>2</th>\n",
       "      <td>I'm Glad My Mom Died</td>\n",
       "      <td>Jennette McCurdy</td>\n",
       "      <td>2022</td>\n",
       "      <td>English</td>\n",
       "      <td>Mar</td>\n",
       "      <td>⭐⭐⭐⭐</td>\n",
       "      <td>Kobo</td>\n",
       "      <td>320</td>\n",
       "      <td>320</td>\n",
       "      <td>NaN</td>\n",
       "      <td>0</td>\n",
       "    </tr>\n",
       "    <tr>\n",
       "      <th>3</th>\n",
       "      <td>Normal People</td>\n",
       "      <td>Sally Rooney</td>\n",
       "      <td>2018</td>\n",
       "      <td>English</td>\n",
       "      <td>Apr</td>\n",
       "      <td>⭐⭐⭐⭐</td>\n",
       "      <td>Kobo</td>\n",
       "      <td>288</td>\n",
       "      <td>288</td>\n",
       "      <td>NaN</td>\n",
       "      <td>0</td>\n",
       "    </tr>\n",
       "    <tr>\n",
       "      <th>4</th>\n",
       "      <td>아몬드 (Almond)</td>\n",
       "      <td>손원평 (Won-Pyung Sohn)</td>\n",
       "      <td>2017</td>\n",
       "      <td>English</td>\n",
       "      <td>May</td>\n",
       "      <td>⭐⭐⭐⭐⭐</td>\n",
       "      <td>Kobo</td>\n",
       "      <td>272</td>\n",
       "      <td>272</td>\n",
       "      <td>NaN</td>\n",
       "      <td>0</td>\n",
       "    </tr>\n",
       "  </tbody>\n",
       "</table>\n",
       "</div>"
      ],
      "text/plain": [
       "                                          Book title                Author  \\\n",
       "0                                         레몬 (Lemon)    권여선 (Kwon Yeo-sun)   \n",
       "1  Brividi. Storie che non vi faranno dormire la ...        Elisa De Marco   \n",
       "2                               I'm Glad My Mom Died      Jennette McCurdy   \n",
       "3                                      Normal People          Sally Rooney   \n",
       "4                                       아몬드 (Almond)  손원평 (Won-Pyung Sohn)   \n",
       "\n",
       "   Year Language Month   Vote Resource  Current Page  Total Page  Progress  \\\n",
       "0  2021  Italian   Jan     ⭐⭐  Library           144         144       NaN   \n",
       "1  2022  Italian   Feb   ⭐⭐⭐⭐     Kobo           188         188       NaN   \n",
       "2  2022  English   Mar   ⭐⭐⭐⭐     Kobo           320         320       NaN   \n",
       "3  2018  English   Apr   ⭐⭐⭐⭐     Kobo           288         288       NaN   \n",
       "4  2017  English   May  ⭐⭐⭐⭐⭐     Kobo           272         272       NaN   \n",
       "\n",
       "   Missing Pages  \n",
       "0              0  \n",
       "1              0  \n",
       "2              0  \n",
       "3              0  \n",
       "4              0  "
      ]
     },
     "execution_count": 4,
     "metadata": {},
     "output_type": "execute_result"
    }
   ],
   "source": [
    "book_23.head()"
   ]
  },
  {
   "cell_type": "code",
   "execution_count": 5,
   "metadata": {},
   "outputs": [
    {
     "data": {
      "application/vnd.microsoft.datawrangler.viewer.v0+json": {
       "columns": [
        {
         "name": "index",
         "rawType": "int64",
         "type": "integer"
        },
        {
         "name": "Book title",
         "rawType": "object",
         "type": "string"
        },
        {
         "name": "Author",
         "rawType": "object",
         "type": "string"
        },
        {
         "name": "Year",
         "rawType": "int64",
         "type": "integer"
        },
        {
         "name": "Language",
         "rawType": "object",
         "type": "string"
        },
        {
         "name": "Month",
         "rawType": "object",
         "type": "string"
        },
        {
         "name": "Vote",
         "rawType": "object",
         "type": "string"
        },
        {
         "name": "Resource",
         "rawType": "object",
         "type": "string"
        },
        {
         "name": "Current Page",
         "rawType": "int64",
         "type": "integer"
        },
        {
         "name": "Total Page",
         "rawType": "int64",
         "type": "integer"
        },
        {
         "name": "Progress",
         "rawType": "float64",
         "type": "float"
        },
        {
         "name": "Missing Pages",
         "rawType": "int64",
         "type": "integer"
        }
       ],
       "conversionMethod": "pd.DataFrame",
       "ref": "f1aae26a-e6fd-4385-9edb-8ffe14c1e034",
       "rows": [
        [
         "0",
         "The Silent Patient",
         "Alex Michaelides",
         "2019",
         "English",
         "Feb",
         "⭐⭐⭐⭐",
         "Bought",
         "339",
         "339",
         null,
         "0"
        ],
        [
         "1",
         "La libreria dei gatti neri",
         "Piergiorgio Pulixi",
         "2023",
         "Italian",
         "Jul",
         "⭐⭐⭐",
         "Bought",
         "296",
         "296",
         null,
         "0"
        ]
       ],
       "shape": {
        "columns": 11,
        "rows": 2
       }
      },
      "text/html": [
       "<div>\n",
       "<style scoped>\n",
       "    .dataframe tbody tr th:only-of-type {\n",
       "        vertical-align: middle;\n",
       "    }\n",
       "\n",
       "    .dataframe tbody tr th {\n",
       "        vertical-align: top;\n",
       "    }\n",
       "\n",
       "    .dataframe thead th {\n",
       "        text-align: right;\n",
       "    }\n",
       "</style>\n",
       "<table border=\"1\" class=\"dataframe\">\n",
       "  <thead>\n",
       "    <tr style=\"text-align: right;\">\n",
       "      <th></th>\n",
       "      <th>Book title</th>\n",
       "      <th>Author</th>\n",
       "      <th>Year</th>\n",
       "      <th>Language</th>\n",
       "      <th>Month</th>\n",
       "      <th>Vote</th>\n",
       "      <th>Resource</th>\n",
       "      <th>Current Page</th>\n",
       "      <th>Total Page</th>\n",
       "      <th>Progress</th>\n",
       "      <th>Missing Pages</th>\n",
       "    </tr>\n",
       "  </thead>\n",
       "  <tbody>\n",
       "    <tr>\n",
       "      <th>0</th>\n",
       "      <td>The Silent Patient</td>\n",
       "      <td>Alex Michaelides</td>\n",
       "      <td>2019</td>\n",
       "      <td>English</td>\n",
       "      <td>Feb</td>\n",
       "      <td>⭐⭐⭐⭐</td>\n",
       "      <td>Bought</td>\n",
       "      <td>339</td>\n",
       "      <td>339</td>\n",
       "      <td>NaN</td>\n",
       "      <td>0</td>\n",
       "    </tr>\n",
       "    <tr>\n",
       "      <th>1</th>\n",
       "      <td>La libreria dei gatti neri</td>\n",
       "      <td>Piergiorgio Pulixi</td>\n",
       "      <td>2023</td>\n",
       "      <td>Italian</td>\n",
       "      <td>Jul</td>\n",
       "      <td>⭐⭐⭐</td>\n",
       "      <td>Bought</td>\n",
       "      <td>296</td>\n",
       "      <td>296</td>\n",
       "      <td>NaN</td>\n",
       "      <td>0</td>\n",
       "    </tr>\n",
       "  </tbody>\n",
       "</table>\n",
       "</div>"
      ],
      "text/plain": [
       "                   Book title              Author  Year Language Month  Vote  \\\n",
       "0          The Silent Patient    Alex Michaelides  2019  English   Feb  ⭐⭐⭐⭐   \n",
       "1  La libreria dei gatti neri  Piergiorgio Pulixi  2023  Italian   Jul   ⭐⭐⭐   \n",
       "\n",
       "  Resource  Current Page  Total Page  Progress  Missing Pages  \n",
       "0   Bought           339         339       NaN              0  \n",
       "1   Bought           296         296       NaN              0  "
      ]
     },
     "execution_count": 5,
     "metadata": {},
     "output_type": "execute_result"
    }
   ],
   "source": [
    "book_24.head()"
   ]
  },
  {
   "cell_type": "code",
   "execution_count": 6,
   "metadata": {},
   "outputs": [
    {
     "data": {
      "application/vnd.microsoft.datawrangler.viewer.v0+json": {
       "columns": [
        {
         "name": "index",
         "rawType": "int64",
         "type": "integer"
        },
        {
         "name": "Book title",
         "rawType": "object",
         "type": "string"
        },
        {
         "name": "Author",
         "rawType": "object",
         "type": "string"
        },
        {
         "name": "Year",
         "rawType": "int64",
         "type": "integer"
        },
        {
         "name": "Language",
         "rawType": "object",
         "type": "string"
        },
        {
         "name": "Month",
         "rawType": "object",
         "type": "string"
        },
        {
         "name": "Vote",
         "rawType": "object",
         "type": "unknown"
        },
        {
         "name": "Resource",
         "rawType": "object",
         "type": "string"
        },
        {
         "name": "Current Page",
         "rawType": "int64",
         "type": "integer"
        },
        {
         "name": "Total Page",
         "rawType": "int64",
         "type": "integer"
        },
        {
         "name": "Progress",
         "rawType": "float64",
         "type": "float"
        },
        {
         "name": "Missing Pages",
         "rawType": "float64",
         "type": "float"
        }
       ],
       "conversionMethod": "pd.DataFrame",
       "ref": "3d402190-92c4-4da8-b2a5-5923a52d0a13",
       "rows": [
        [
         "0",
         "Crónica de una muerte anunciada",
         "Gabriel García Márquez",
         "1981",
         "Spanish",
         "Jan",
         "⭐⭐⭐⭐⭐",
         "Kobo",
         "128",
         "128",
         null,
         "0.0"
        ],
        [
         "1",
         "Cadáver exquisito",
         "Agustina Bazterrica",
         "2017",
         "Spanish",
         "March",
         null,
         "Kobo",
         "85",
         "392",
         null,
         "307.0"
        ],
        [
         "2",
         "Life 3.0",
         "Max Tegmark",
         "2017",
         "English",
         "March",
         null,
         "Bought",
         "0",
         "335",
         null,
         null
        ]
       ],
       "shape": {
        "columns": 11,
        "rows": 3
       }
      },
      "text/html": [
       "<div>\n",
       "<style scoped>\n",
       "    .dataframe tbody tr th:only-of-type {\n",
       "        vertical-align: middle;\n",
       "    }\n",
       "\n",
       "    .dataframe tbody tr th {\n",
       "        vertical-align: top;\n",
       "    }\n",
       "\n",
       "    .dataframe thead th {\n",
       "        text-align: right;\n",
       "    }\n",
       "</style>\n",
       "<table border=\"1\" class=\"dataframe\">\n",
       "  <thead>\n",
       "    <tr style=\"text-align: right;\">\n",
       "      <th></th>\n",
       "      <th>Book title</th>\n",
       "      <th>Author</th>\n",
       "      <th>Year</th>\n",
       "      <th>Language</th>\n",
       "      <th>Month</th>\n",
       "      <th>Vote</th>\n",
       "      <th>Resource</th>\n",
       "      <th>Current Page</th>\n",
       "      <th>Total Page</th>\n",
       "      <th>Progress</th>\n",
       "      <th>Missing Pages</th>\n",
       "    </tr>\n",
       "  </thead>\n",
       "  <tbody>\n",
       "    <tr>\n",
       "      <th>0</th>\n",
       "      <td>Crónica de una muerte anunciada</td>\n",
       "      <td>Gabriel García Márquez</td>\n",
       "      <td>1981</td>\n",
       "      <td>Spanish</td>\n",
       "      <td>Jan</td>\n",
       "      <td>⭐⭐⭐⭐⭐</td>\n",
       "      <td>Kobo</td>\n",
       "      <td>128</td>\n",
       "      <td>128</td>\n",
       "      <td>NaN</td>\n",
       "      <td>0.0</td>\n",
       "    </tr>\n",
       "    <tr>\n",
       "      <th>1</th>\n",
       "      <td>Cadáver exquisito</td>\n",
       "      <td>Agustina Bazterrica</td>\n",
       "      <td>2017</td>\n",
       "      <td>Spanish</td>\n",
       "      <td>March</td>\n",
       "      <td>NaN</td>\n",
       "      <td>Kobo</td>\n",
       "      <td>85</td>\n",
       "      <td>392</td>\n",
       "      <td>NaN</td>\n",
       "      <td>307.0</td>\n",
       "    </tr>\n",
       "    <tr>\n",
       "      <th>2</th>\n",
       "      <td>Life 3.0</td>\n",
       "      <td>Max Tegmark</td>\n",
       "      <td>2017</td>\n",
       "      <td>English</td>\n",
       "      <td>March</td>\n",
       "      <td>NaN</td>\n",
       "      <td>Bought</td>\n",
       "      <td>0</td>\n",
       "      <td>335</td>\n",
       "      <td>NaN</td>\n",
       "      <td>NaN</td>\n",
       "    </tr>\n",
       "  </tbody>\n",
       "</table>\n",
       "</div>"
      ],
      "text/plain": [
       "                        Book title                  Author  Year Language  \\\n",
       "0  Crónica de una muerte anunciada  Gabriel García Márquez  1981  Spanish   \n",
       "1                Cadáver exquisito     Agustina Bazterrica  2017  Spanish   \n",
       "2                         Life 3.0             Max Tegmark  2017  English   \n",
       "\n",
       "   Month   Vote Resource  Current Page  Total Page  Progress  Missing Pages  \n",
       "0    Jan  ⭐⭐⭐⭐⭐     Kobo           128         128       NaN            0.0  \n",
       "1  March    NaN     Kobo            85         392       NaN          307.0  \n",
       "2  March    NaN   Bought             0         335       NaN            NaN  "
      ]
     },
     "execution_count": 6,
     "metadata": {},
     "output_type": "execute_result"
    }
   ],
   "source": [
    "book_25.head()"
   ]
  },
  {
   "cell_type": "code",
   "execution_count": null,
   "metadata": {},
   "outputs": [],
   "source": []
  }
 ],
 "metadata": {
  "kernelspec": {
   "display_name": "base",
   "language": "python",
   "name": "python3"
  },
  "language_info": {
   "codemirror_mode": {
    "name": "ipython",
    "version": 3
   },
   "file_extension": ".py",
   "mimetype": "text/x-python",
   "name": "python",
   "nbconvert_exporter": "python",
   "pygments_lexer": "ipython3",
   "version": "3.12.4"
  }
 },
 "nbformat": 4,
 "nbformat_minor": 2
}
